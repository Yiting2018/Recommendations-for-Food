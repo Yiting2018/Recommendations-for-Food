{
 "cells": [
  {
   "cell_type": "markdown",
   "metadata": {},
   "source": [
    "### Kaggle Team Name: Team_04\n",
    "##### MAD: 0.373\n",
    "#### The 3rd Place on Kaggle\n"
   ]
  },
  {
   "cell_type": "code",
   "execution_count": 45,
   "metadata": {},
   "outputs": [],
   "source": [
    "import pandas as pd\n",
    "import numpy as np"
   ]
  },
  {
   "cell_type": "markdown",
   "metadata": {},
   "source": [
    "## IMPORT DATA AND DELETE USELESS VARIABLES"
   ]
  },
  {
   "cell_type": "code",
   "execution_count": 46,
   "metadata": {},
   "outputs": [],
   "source": [
    "df1 = pd.read_csv('raw-data_recipe.csv')"
   ]
  },
  {
   "cell_type": "code",
   "execution_count": 47,
   "metadata": {},
   "outputs": [
    {
     "data": {
      "text/html": [
       "<div>\n",
       "<style scoped>\n",
       "    .dataframe tbody tr th:only-of-type {\n",
       "        vertical-align: middle;\n",
       "    }\n",
       "\n",
       "    .dataframe tbody tr th {\n",
       "        vertical-align: top;\n",
       "    }\n",
       "\n",
       "    .dataframe thead th {\n",
       "        text-align: right;\n",
       "    }\n",
       "</style>\n",
       "<table border=\"1\" class=\"dataframe\">\n",
       "  <thead>\n",
       "    <tr style=\"text-align: right;\">\n",
       "      <th></th>\n",
       "      <th>recipe_id</th>\n",
       "      <th>recipe_name</th>\n",
       "      <th>aver_rate</th>\n",
       "      <th>image_url</th>\n",
       "      <th>review_nums</th>\n",
       "      <th>ingredients</th>\n",
       "      <th>cooking_directions</th>\n",
       "      <th>nutritions</th>\n",
       "      <th>reviews</th>\n",
       "    </tr>\n",
       "  </thead>\n",
       "  <tbody>\n",
       "    <tr>\n",
       "      <th>0</th>\n",
       "      <td>222388</td>\n",
       "      <td>Homemade Bacon</td>\n",
       "      <td>5.000000</td>\n",
       "      <td>https://images.media-allrecipes.com/userphotos...</td>\n",
       "      <td>3</td>\n",
       "      <td>pork belly^smoked paprika^kosher salt^ground b...</td>\n",
       "      <td>{'directions': u'Prep\\n5 m\\nCook\\n2 h 45 m\\nRe...</td>\n",
       "      <td>{u'niacin': {u'hasCompleteData': False, u'name...</td>\n",
       "      <td>{8542392: {'rating': 5, 'followersCount': 11, ...</td>\n",
       "    </tr>\n",
       "    <tr>\n",
       "      <th>1</th>\n",
       "      <td>240488</td>\n",
       "      <td>Pork Loin, Apples, and Sauerkraut</td>\n",
       "      <td>4.764706</td>\n",
       "      <td>https://images.media-allrecipes.com/userphotos...</td>\n",
       "      <td>29</td>\n",
       "      <td>sauerkraut drained^Granny Smith apples sliced^...</td>\n",
       "      <td>{'directions': u'Prep\\n15 m\\nCook\\n2 h 30 m\\nR...</td>\n",
       "      <td>{u'niacin': {u'hasCompleteData': False, u'name...</td>\n",
       "      <td>{3574785: {'rating': 5, 'followersCount': 0, '...</td>\n",
       "    </tr>\n",
       "    <tr>\n",
       "      <th>2</th>\n",
       "      <td>218939</td>\n",
       "      <td>Foolproof Rosemary Chicken Wings</td>\n",
       "      <td>4.571429</td>\n",
       "      <td>https://images.media-allrecipes.com/userphotos...</td>\n",
       "      <td>12</td>\n",
       "      <td>chicken wings^sprigs rosemary^head garlic^oliv...</td>\n",
       "      <td>{'directions': u\"Prep\\n20 m\\nCook\\n40 m\\nReady...</td>\n",
       "      <td>{u'niacin': {u'hasCompleteData': True, u'name'...</td>\n",
       "      <td>{13774946: {'rating': 5, 'followersCount': 0, ...</td>\n",
       "    </tr>\n",
       "    <tr>\n",
       "      <th>3</th>\n",
       "      <td>87211</td>\n",
       "      <td>Chicken Pesto Paninis</td>\n",
       "      <td>4.625000</td>\n",
       "      <td>https://images.media-allrecipes.com/userphotos...</td>\n",
       "      <td>163</td>\n",
       "      <td>focaccia bread quartered^prepared basil pesto^...</td>\n",
       "      <td>{'directions': u'Prep\\n15 m\\nCook\\n5 m\\nReady ...</td>\n",
       "      <td>{u'niacin': {u'hasCompleteData': True, u'name'...</td>\n",
       "      <td>{1563136: {'rating': 5, 'followersCount': 0, '...</td>\n",
       "    </tr>\n",
       "    <tr>\n",
       "      <th>4</th>\n",
       "      <td>245714</td>\n",
       "      <td>Potato Bacon Pizza</td>\n",
       "      <td>4.500000</td>\n",
       "      <td>https://images.media-allrecipes.com/userphotos...</td>\n",
       "      <td>2</td>\n",
       "      <td>red potatoes^strips bacon^Sauce:^heavy whippin...</td>\n",
       "      <td>{'directions': u'Prep\\n20 m\\nCook\\n45 m\\nReady...</td>\n",
       "      <td>{u'niacin': {u'hasCompleteData': True, u'name'...</td>\n",
       "      <td>{2945555: {'rating': 5, 'followersCount': 6690...</td>\n",
       "    </tr>\n",
       "  </tbody>\n",
       "</table>\n",
       "</div>"
      ],
      "text/plain": [
       "   recipe_id                        recipe_name  aver_rate  \\\n",
       "0     222388                     Homemade Bacon   5.000000   \n",
       "1     240488  Pork Loin, Apples, and Sauerkraut   4.764706   \n",
       "2     218939   Foolproof Rosemary Chicken Wings   4.571429   \n",
       "3      87211              Chicken Pesto Paninis   4.625000   \n",
       "4     245714                 Potato Bacon Pizza   4.500000   \n",
       "\n",
       "                                           image_url  review_nums  \\\n",
       "0  https://images.media-allrecipes.com/userphotos...            3   \n",
       "1  https://images.media-allrecipes.com/userphotos...           29   \n",
       "2  https://images.media-allrecipes.com/userphotos...           12   \n",
       "3  https://images.media-allrecipes.com/userphotos...          163   \n",
       "4  https://images.media-allrecipes.com/userphotos...            2   \n",
       "\n",
       "                                         ingredients  \\\n",
       "0  pork belly^smoked paprika^kosher salt^ground b...   \n",
       "1  sauerkraut drained^Granny Smith apples sliced^...   \n",
       "2  chicken wings^sprigs rosemary^head garlic^oliv...   \n",
       "3  focaccia bread quartered^prepared basil pesto^...   \n",
       "4  red potatoes^strips bacon^Sauce:^heavy whippin...   \n",
       "\n",
       "                                  cooking_directions  \\\n",
       "0  {'directions': u'Prep\\n5 m\\nCook\\n2 h 45 m\\nRe...   \n",
       "1  {'directions': u'Prep\\n15 m\\nCook\\n2 h 30 m\\nR...   \n",
       "2  {'directions': u\"Prep\\n20 m\\nCook\\n40 m\\nReady...   \n",
       "3  {'directions': u'Prep\\n15 m\\nCook\\n5 m\\nReady ...   \n",
       "4  {'directions': u'Prep\\n20 m\\nCook\\n45 m\\nReady...   \n",
       "\n",
       "                                          nutritions  \\\n",
       "0  {u'niacin': {u'hasCompleteData': False, u'name...   \n",
       "1  {u'niacin': {u'hasCompleteData': False, u'name...   \n",
       "2  {u'niacin': {u'hasCompleteData': True, u'name'...   \n",
       "3  {u'niacin': {u'hasCompleteData': True, u'name'...   \n",
       "4  {u'niacin': {u'hasCompleteData': True, u'name'...   \n",
       "\n",
       "                                             reviews  \n",
       "0  {8542392: {'rating': 5, 'followersCount': 11, ...  \n",
       "1  {3574785: {'rating': 5, 'followersCount': 0, '...  \n",
       "2  {13774946: {'rating': 5, 'followersCount': 0, ...  \n",
       "3  {1563136: {'rating': 5, 'followersCount': 0, '...  \n",
       "4  {2945555: {'rating': 5, 'followersCount': 6690...  "
      ]
     },
     "execution_count": 47,
     "metadata": {},
     "output_type": "execute_result"
    }
   ],
   "source": [
    "df1.head()"
   ]
  },
  {
   "cell_type": "code",
   "execution_count": 48,
   "metadata": {},
   "outputs": [],
   "source": [
    "df1.drop(columns = 'image_url', axis = 1, inplace = True) # We don't need image_url for our models."
   ]
  },
  {
   "cell_type": "code",
   "execution_count": 49,
   "metadata": {
    "scrolled": true
   },
   "outputs": [
    {
     "data": {
      "text/html": [
       "<div>\n",
       "<style scoped>\n",
       "    .dataframe tbody tr th:only-of-type {\n",
       "        vertical-align: middle;\n",
       "    }\n",
       "\n",
       "    .dataframe tbody tr th {\n",
       "        vertical-align: top;\n",
       "    }\n",
       "\n",
       "    .dataframe thead th {\n",
       "        text-align: right;\n",
       "    }\n",
       "</style>\n",
       "<table border=\"1\" class=\"dataframe\">\n",
       "  <thead>\n",
       "    <tr style=\"text-align: right;\">\n",
       "      <th></th>\n",
       "      <th>recipe_id</th>\n",
       "      <th>recipe_name</th>\n",
       "      <th>aver_rate</th>\n",
       "      <th>review_nums</th>\n",
       "      <th>ingredients</th>\n",
       "      <th>cooking_directions</th>\n",
       "      <th>nutritions</th>\n",
       "      <th>reviews</th>\n",
       "    </tr>\n",
       "  </thead>\n",
       "  <tbody>\n",
       "    <tr>\n",
       "      <th>0</th>\n",
       "      <td>222388</td>\n",
       "      <td>Homemade Bacon</td>\n",
       "      <td>5.000000</td>\n",
       "      <td>3</td>\n",
       "      <td>pork belly^smoked paprika^kosher salt^ground b...</td>\n",
       "      <td>{'directions': u'Prep\\n5 m\\nCook\\n2 h 45 m\\nRe...</td>\n",
       "      <td>{u'niacin': {u'hasCompleteData': False, u'name...</td>\n",
       "      <td>{8542392: {'rating': 5, 'followersCount': 11, ...</td>\n",
       "    </tr>\n",
       "    <tr>\n",
       "      <th>1</th>\n",
       "      <td>240488</td>\n",
       "      <td>Pork Loin, Apples, and Sauerkraut</td>\n",
       "      <td>4.764706</td>\n",
       "      <td>29</td>\n",
       "      <td>sauerkraut drained^Granny Smith apples sliced^...</td>\n",
       "      <td>{'directions': u'Prep\\n15 m\\nCook\\n2 h 30 m\\nR...</td>\n",
       "      <td>{u'niacin': {u'hasCompleteData': False, u'name...</td>\n",
       "      <td>{3574785: {'rating': 5, 'followersCount': 0, '...</td>\n",
       "    </tr>\n",
       "    <tr>\n",
       "      <th>2</th>\n",
       "      <td>218939</td>\n",
       "      <td>Foolproof Rosemary Chicken Wings</td>\n",
       "      <td>4.571429</td>\n",
       "      <td>12</td>\n",
       "      <td>chicken wings^sprigs rosemary^head garlic^oliv...</td>\n",
       "      <td>{'directions': u\"Prep\\n20 m\\nCook\\n40 m\\nReady...</td>\n",
       "      <td>{u'niacin': {u'hasCompleteData': True, u'name'...</td>\n",
       "      <td>{13774946: {'rating': 5, 'followersCount': 0, ...</td>\n",
       "    </tr>\n",
       "    <tr>\n",
       "      <th>3</th>\n",
       "      <td>87211</td>\n",
       "      <td>Chicken Pesto Paninis</td>\n",
       "      <td>4.625000</td>\n",
       "      <td>163</td>\n",
       "      <td>focaccia bread quartered^prepared basil pesto^...</td>\n",
       "      <td>{'directions': u'Prep\\n15 m\\nCook\\n5 m\\nReady ...</td>\n",
       "      <td>{u'niacin': {u'hasCompleteData': True, u'name'...</td>\n",
       "      <td>{1563136: {'rating': 5, 'followersCount': 0, '...</td>\n",
       "    </tr>\n",
       "    <tr>\n",
       "      <th>4</th>\n",
       "      <td>245714</td>\n",
       "      <td>Potato Bacon Pizza</td>\n",
       "      <td>4.500000</td>\n",
       "      <td>2</td>\n",
       "      <td>red potatoes^strips bacon^Sauce:^heavy whippin...</td>\n",
       "      <td>{'directions': u'Prep\\n20 m\\nCook\\n45 m\\nReady...</td>\n",
       "      <td>{u'niacin': {u'hasCompleteData': True, u'name'...</td>\n",
       "      <td>{2945555: {'rating': 5, 'followersCount': 6690...</td>\n",
       "    </tr>\n",
       "  </tbody>\n",
       "</table>\n",
       "</div>"
      ],
      "text/plain": [
       "   recipe_id                        recipe_name  aver_rate  review_nums  \\\n",
       "0     222388                     Homemade Bacon   5.000000            3   \n",
       "1     240488  Pork Loin, Apples, and Sauerkraut   4.764706           29   \n",
       "2     218939   Foolproof Rosemary Chicken Wings   4.571429           12   \n",
       "3      87211              Chicken Pesto Paninis   4.625000          163   \n",
       "4     245714                 Potato Bacon Pizza   4.500000            2   \n",
       "\n",
       "                                         ingredients  \\\n",
       "0  pork belly^smoked paprika^kosher salt^ground b...   \n",
       "1  sauerkraut drained^Granny Smith apples sliced^...   \n",
       "2  chicken wings^sprigs rosemary^head garlic^oliv...   \n",
       "3  focaccia bread quartered^prepared basil pesto^...   \n",
       "4  red potatoes^strips bacon^Sauce:^heavy whippin...   \n",
       "\n",
       "                                  cooking_directions  \\\n",
       "0  {'directions': u'Prep\\n5 m\\nCook\\n2 h 45 m\\nRe...   \n",
       "1  {'directions': u'Prep\\n15 m\\nCook\\n2 h 30 m\\nR...   \n",
       "2  {'directions': u\"Prep\\n20 m\\nCook\\n40 m\\nReady...   \n",
       "3  {'directions': u'Prep\\n15 m\\nCook\\n5 m\\nReady ...   \n",
       "4  {'directions': u'Prep\\n20 m\\nCook\\n45 m\\nReady...   \n",
       "\n",
       "                                          nutritions  \\\n",
       "0  {u'niacin': {u'hasCompleteData': False, u'name...   \n",
       "1  {u'niacin': {u'hasCompleteData': False, u'name...   \n",
       "2  {u'niacin': {u'hasCompleteData': True, u'name'...   \n",
       "3  {u'niacin': {u'hasCompleteData': True, u'name'...   \n",
       "4  {u'niacin': {u'hasCompleteData': True, u'name'...   \n",
       "\n",
       "                                             reviews  \n",
       "0  {8542392: {'rating': 5, 'followersCount': 11, ...  \n",
       "1  {3574785: {'rating': 5, 'followersCount': 0, '...  \n",
       "2  {13774946: {'rating': 5, 'followersCount': 0, ...  \n",
       "3  {1563136: {'rating': 5, 'followersCount': 0, '...  \n",
       "4  {2945555: {'rating': 5, 'followersCount': 6690...  "
      ]
     },
     "execution_count": 49,
     "metadata": {},
     "output_type": "execute_result"
    }
   ],
   "source": [
    "df1.head()"
   ]
  },
  {
   "cell_type": "code",
   "execution_count": 50,
   "metadata": {},
   "outputs": [],
   "source": [
    "df2 = pd.read_csv('core-data-train_rating.csv')\n",
    "df2.drop(['dateLastModified'],axis = 1, inplace = True)"
   ]
  },
  {
   "cell_type": "code",
   "execution_count": 51,
   "metadata": {
    "scrolled": true
   },
   "outputs": [
    {
     "data": {
      "text/html": [
       "<div>\n",
       "<style scoped>\n",
       "    .dataframe tbody tr th:only-of-type {\n",
       "        vertical-align: middle;\n",
       "    }\n",
       "\n",
       "    .dataframe tbody tr th {\n",
       "        vertical-align: top;\n",
       "    }\n",
       "\n",
       "    .dataframe thead th {\n",
       "        text-align: right;\n",
       "    }\n",
       "</style>\n",
       "<table border=\"1\" class=\"dataframe\">\n",
       "  <thead>\n",
       "    <tr style=\"text-align: right;\">\n",
       "      <th></th>\n",
       "      <th>user_id</th>\n",
       "      <th>recipe_id</th>\n",
       "      <th>rating</th>\n",
       "    </tr>\n",
       "  </thead>\n",
       "  <tbody>\n",
       "    <tr>\n",
       "      <th>0</th>\n",
       "      <td>5215572</td>\n",
       "      <td>17991</td>\n",
       "      <td>5</td>\n",
       "    </tr>\n",
       "    <tr>\n",
       "      <th>1</th>\n",
       "      <td>5215572</td>\n",
       "      <td>170724</td>\n",
       "      <td>4</td>\n",
       "    </tr>\n",
       "    <tr>\n",
       "      <th>2</th>\n",
       "      <td>5215572</td>\n",
       "      <td>18045</td>\n",
       "      <td>5</td>\n",
       "    </tr>\n",
       "    <tr>\n",
       "      <th>3</th>\n",
       "      <td>3622615</td>\n",
       "      <td>60598</td>\n",
       "      <td>4</td>\n",
       "    </tr>\n",
       "    <tr>\n",
       "      <th>4</th>\n",
       "      <td>1313770</td>\n",
       "      <td>47519</td>\n",
       "      <td>5</td>\n",
       "    </tr>\n",
       "  </tbody>\n",
       "</table>\n",
       "</div>"
      ],
      "text/plain": [
       "   user_id  recipe_id  rating\n",
       "0  5215572      17991       5\n",
       "1  5215572     170724       4\n",
       "2  5215572      18045       5\n",
       "3  3622615      60598       4\n",
       "4  1313770      47519       5"
      ]
     },
     "execution_count": 51,
     "metadata": {},
     "output_type": "execute_result"
    }
   ],
   "source": [
    "df2.head()"
   ]
  },
  {
   "cell_type": "markdown",
   "metadata": {},
   "source": [
    "## DATA CLEANING & MANIPULATIONS\n",
    "### Recipe\n",
    "    * ingredients\n",
    "    * cooking_directions (prep, cooking, ready in time, if applicable)\n",
    "    * nutritions (calories, calories from fat, carbohydrates, proteins, if applicable)\n",
    "#### ingredients\n",
    "The information in ingredients are not entirely 'ingredient', it could also involve some cooking instructions. For example:"
   ]
  },
  {
   "cell_type": "code",
   "execution_count": 52,
   "metadata": {},
   "outputs": [
    {
     "data": {
      "text/plain": [
       "'butter^boneless pork loin chops^chopped fresh thyme^large onion^garlic^Cox apple cored and cut into thick rings^red apple cored and cut into rings^white sugar^salt and pepper to taste^dry hard cider^heavy cream'"
      ]
     },
     "execution_count": 52,
     "metadata": {},
     "output_type": "execute_result"
    }
   ],
   "source": [
    "df1.ingredients[99]\n",
    "# Cox apple cored and cut into thick rings\n",
    "# red apple cored and cut into rings"
   ]
  },
  {
   "cell_type": "markdown",
   "metadata": {},
   "source": [
    "In order to better serve our purpose, we decided to split the name of \"ingredients\" if they contain more than 2 words."
   ]
  },
  {
   "cell_type": "code",
   "execution_count": 53,
   "metadata": {
    "scrolled": true
   },
   "outputs": [],
   "source": [
    "df1['Ingredients'] = [i.split('^') for i in df1.ingredients]"
   ]
  },
  {
   "cell_type": "code",
   "execution_count": 54,
   "metadata": {
    "scrolled": true
   },
   "outputs": [],
   "source": [
    "for i in df1.Ingredients:\n",
    "    for j in i:\n",
    "        if j.count(' ') > 2:\n",
    "            i += j.split(' ')\n",
    "            i.remove(j)"
   ]
  },
  {
   "cell_type": "markdown",
   "metadata": {},
   "source": [
    "### cooking_directions\n",
    "#### Get the Prep, Cook, and Ready In Time from Each Recipes\n",
    "There are two types of cooking_directions, as followings:"
   ]
  },
  {
   "cell_type": "code",
   "execution_count": 55,
   "metadata": {
    "scrolled": false
   },
   "outputs": [
    {
     "data": {
      "text/plain": [
       "\"{'directions': u'Prep\\\\n25 m\\\\nCook\\\\n40 m\\\\nReady In\\\\n1 h 5 m\\\\nPreheat oven to 375 degrees F (190 degrees C).\\\\nIn a large heavy skillet, over medium-high heat, melt half of the butter. Fry the pork chops on both sides until a nice golden color. Transfer the chops to a 2 quart casserole dish with a lid, and sprinkle with thyme.\\\\nMelt the remaining butter in the pan, and fry the onion and garlic until tender. Transfer them to the casserole dish. Fry the apple rings in the pan for a few seconds on each side to give them color, then remove to the casserole dish. Sprinkle with sugar.\\\\nSpoon any excess fat from the frying pan and pour in the apple cider. Stir to remove any flavorful bits from the bottom. Bring the mixture to a simmer, then pour over the pork chops and apples in the dish. Season with salt and pepper.\\\\nBake the casserole, covered for 30 to 40 minutes, or until the pork chops are cooked through. Remove the pork chops and apples to a serving platter and stir the cream into the juices. Serve sauce over pork chops.'}\""
      ]
     },
     "execution_count": 55,
     "metadata": {},
     "output_type": "execute_result"
    }
   ],
   "source": [
    "df1.cooking_directions[99] # The one with the timing."
   ]
  },
  {
   "cell_type": "code",
   "execution_count": 56,
   "metadata": {},
   "outputs": [
    {
     "data": {
      "text/plain": [
       "\"{'directions': u'Preheat oven to 350 degrees F (175 degrees C).\\\\nHeat oil in a medium skillet over medium high heat. Add chicken breasts and saute until tender. Meanwhile, prepare potatoes according to package directions, adding 1 cup (instead of 2/3 cup) of milk and sliced potatoes. When chicken is tender, remove from heat, let cool and shred. Add shredded chicken to potato mixture.\\\\nFold chicken/potato mixture into a 9x13 inch baking dish. Cover and bake in the preheated oven for 25 to 35 minutes. Add cheese and bake for another 10 minutes.'}\""
      ]
     },
     "execution_count": 56,
     "metadata": {},
     "output_type": "execute_result"
    }
   ],
   "source": [
    "df1.cooking_directions[58] # The one without the timing."
   ]
  },
  {
   "cell_type": "markdown",
   "metadata": {},
   "source": [
    "#### Also, the lengths of time in the instructions are in hours and minutes. For easier comparison, we need to convert them to the same format (in minute)."
   ]
  },
  {
   "cell_type": "code",
   "execution_count": 57,
   "metadata": {},
   "outputs": [],
   "source": [
    "import re"
   ]
  },
  {
   "cell_type": "code",
   "execution_count": 58,
   "metadata": {},
   "outputs": [],
   "source": [
    "def getmins(i):\n",
    "    try:\n",
    "        hour_to_min = int(str(re.search(r'\\d+ h', i)).split(\"'\")[1].split(\" \")[0]) * 60\n",
    "        mins = int(str(re.search(r'\\d+ m', i)).split(\"'\")[1].split(\" \")[0])\n",
    "        mins = hour_to_min + mins\n",
    "    except IndexError:\n",
    "        mins = int(str(re.search(r'\\d+ m', i)).split(\"'\")[1].split(\" \")[0])\n",
    "    return mins"
   ]
  },
  {
   "cell_type": "code",
   "execution_count": 59,
   "metadata": {
    "scrolled": true
   },
   "outputs": [],
   "source": [
    "lis_prep = []\n",
    "for i in df1.cooking_directions:\n",
    "    try:\n",
    "        prep = str(i.split('Prep\\\\n')[1]).split('\\\\n')[0]\n",
    "        lis_prep.append(getmins(prep))\n",
    "    except IndexError:\n",
    "        lis_prep.append(-1) # If there is no Prep time in directions, the time in dataframe will show as -1. "
   ]
  },
  {
   "cell_type": "code",
   "execution_count": 60,
   "metadata": {},
   "outputs": [],
   "source": [
    "df1['Prep'] = lis_prep"
   ]
  },
  {
   "cell_type": "code",
   "execution_count": 61,
   "metadata": {},
   "outputs": [],
   "source": [
    "lis_cook = []\n",
    "for i in df1.cooking_directions:\n",
    "    try:\n",
    "        cook = str(i.split('Cook\\\\n')[1]).split('\\\\n')[0]\n",
    "        lis_cook.append(getmins(cook))\n",
    "    except IndexError:\n",
    "        lis_cook.append(-1) # If there is no Cook time in directions, the time in dataframe will show as -1."
   ]
  },
  {
   "cell_type": "code",
   "execution_count": 62,
   "metadata": {
    "scrolled": true
   },
   "outputs": [],
   "source": [
    "df1['Cook'] = lis_cook"
   ]
  },
  {
   "cell_type": "code",
   "execution_count": 63,
   "metadata": {},
   "outputs": [],
   "source": [
    "lis_ready = []\n",
    "for i in df1.cooking_directions:\n",
    "    try:\n",
    "        ready = str(i.split('Cook\\\\n')[1]).split('\\\\n')[0]\n",
    "        lis_ready.append(getmins(ready))\n",
    "    except IndexError:\n",
    "        lis_ready.append(-1) # If there is no Ready In in directions, the time in dataframe will show as -1."
   ]
  },
  {
   "cell_type": "code",
   "execution_count": 64,
   "metadata": {},
   "outputs": [],
   "source": [
    "df1['Ready'] = lis_ready "
   ]
  },
  {
   "cell_type": "markdown",
   "metadata": {},
   "source": [
    "#### In case prep/cook/ready time is 0, we used -1 for thoes don't have time infomation at all"
   ]
  },
  {
   "cell_type": "markdown",
   "metadata": {},
   "source": [
    "#### nutritions\n",
    "Currently, we only concern about the amount of calories, calories from fat, carbohydrates and proteins in each meal."
   ]
  },
  {
   "cell_type": "code",
   "execution_count": 65,
   "metadata": {},
   "outputs": [],
   "source": [
    "lis_cal = []\n",
    "for i in df1.nutritions:\n",
    "    try:\n",
    "        cal = int(float(str(i.split(\"u'Calories', u'amount': \")[1]).split(\", u'percentDailyValue'\")[0]))\n",
    "        lis_cal.append(cal)\n",
    "    except IndexError:\n",
    "        lis_cal.append(-1)"
   ]
  },
  {
   "cell_type": "code",
   "execution_count": 66,
   "metadata": {},
   "outputs": [],
   "source": [
    "df1['Calories'] = lis_cal"
   ]
  },
  {
   "cell_type": "code",
   "execution_count": 67,
   "metadata": {},
   "outputs": [],
   "source": [
    "lis_cal_fat = []\n",
    "for i in df1.nutritions:\n",
    "    try:\n",
    "        cal = int(float(str(i.split(\"u'Calories from Fat', u'amount': \")[1]).split(\", u'percentDailyValue'\")[0]))\n",
    "        lis_cal_fat.append(cal)\n",
    "    except IndexError:\n",
    "        lis_cal_fat.append(-1)"
   ]
  },
  {
   "cell_type": "code",
   "execution_count": 68,
   "metadata": {},
   "outputs": [],
   "source": [
    "df1['Calories_Fat'] = lis_cal_fat"
   ]
  },
  {
   "cell_type": "code",
   "execution_count": 69,
   "metadata": {},
   "outputs": [],
   "source": [
    "lis_carb = []\n",
    "for i in df1.nutritions:\n",
    "    try:\n",
    "        carb = int(float(str(i.split(\"u'Carbohydrates', u'amount': \")[1]).split(\", u'percentDailyValue'\")[0]))\n",
    "        lis_carb.append(carb)\n",
    "    except IndexError:\n",
    "        lis_carb.append(-1)"
   ]
  },
  {
   "cell_type": "code",
   "execution_count": 70,
   "metadata": {},
   "outputs": [],
   "source": [
    "df1['Carbohydrates'] = lis_carb"
   ]
  },
  {
   "cell_type": "code",
   "execution_count": 71,
   "metadata": {},
   "outputs": [],
   "source": [
    "lis_protein = []\n",
    "for i in df1.nutritions:\n",
    "    try:\n",
    "        protein = int(float(str(i.split(\"u'Protein', u'amount': \")[1]).split(\", u'percentDailyValue'\")[0]))\n",
    "        lis_protein.append(protein)\n",
    "    except IndexError:\n",
    "        lis_protein.append(-1)"
   ]
  },
  {
   "cell_type": "code",
   "execution_count": 72,
   "metadata": {},
   "outputs": [],
   "source": [
    "df1['Protein'] = lis_protein"
   ]
  },
  {
   "cell_type": "code",
   "execution_count": 73,
   "metadata": {},
   "outputs": [],
   "source": [
    "df1.drop(columns = ['ingredients', 'nutritions', 'reviews'], axis = 1, inplace = True) \n",
    "# We don't need these for our models, since we already got what we need."
   ]
  },
  {
   "cell_type": "code",
   "execution_count": 74,
   "metadata": {
    "scrolled": true
   },
   "outputs": [
    {
     "data": {
      "text/html": [
       "<div>\n",
       "<style scoped>\n",
       "    .dataframe tbody tr th:only-of-type {\n",
       "        vertical-align: middle;\n",
       "    }\n",
       "\n",
       "    .dataframe tbody tr th {\n",
       "        vertical-align: top;\n",
       "    }\n",
       "\n",
       "    .dataframe thead th {\n",
       "        text-align: right;\n",
       "    }\n",
       "</style>\n",
       "<table border=\"1\" class=\"dataframe\">\n",
       "  <thead>\n",
       "    <tr style=\"text-align: right;\">\n",
       "      <th></th>\n",
       "      <th>recipe_id</th>\n",
       "      <th>recipe_name</th>\n",
       "      <th>aver_rate</th>\n",
       "      <th>review_nums</th>\n",
       "      <th>cooking_directions</th>\n",
       "      <th>Ingredients</th>\n",
       "      <th>Prep</th>\n",
       "      <th>Cook</th>\n",
       "      <th>Ready</th>\n",
       "      <th>Calories</th>\n",
       "      <th>Calories_Fat</th>\n",
       "      <th>Carbohydrates</th>\n",
       "      <th>Protein</th>\n",
       "    </tr>\n",
       "  </thead>\n",
       "  <tbody>\n",
       "    <tr>\n",
       "      <th>0</th>\n",
       "      <td>222388</td>\n",
       "      <td>Homemade Bacon</td>\n",
       "      <td>5.000000</td>\n",
       "      <td>3</td>\n",
       "      <td>{'directions': u'Prep\\n5 m\\nCook\\n2 h 45 m\\nRe...</td>\n",
       "      <td>[pork belly, smoked paprika, kosher salt, grou...</td>\n",
       "      <td>5</td>\n",
       "      <td>165</td>\n",
       "      <td>165</td>\n",
       "      <td>308</td>\n",
       "      <td>212</td>\n",
       "      <td>1</td>\n",
       "      <td>21</td>\n",
       "    </tr>\n",
       "    <tr>\n",
       "      <th>1</th>\n",
       "      <td>240488</td>\n",
       "      <td>Pork Loin, Apples, and Sauerkraut</td>\n",
       "      <td>4.764706</td>\n",
       "      <td>29</td>\n",
       "      <td>{'directions': u'Prep\\n15 m\\nCook\\n2 h 30 m\\nR...</td>\n",
       "      <td>[sauerkraut drained, large onion, caraway seed...</td>\n",
       "      <td>15</td>\n",
       "      <td>150</td>\n",
       "      <td>150</td>\n",
       "      <td>371</td>\n",
       "      <td>105</td>\n",
       "      <td>32</td>\n",
       "      <td>36</td>\n",
       "    </tr>\n",
       "    <tr>\n",
       "      <th>2</th>\n",
       "      <td>218939</td>\n",
       "      <td>Foolproof Rosemary Chicken Wings</td>\n",
       "      <td>4.571429</td>\n",
       "      <td>12</td>\n",
       "      <td>{'directions': u\"Prep\\n20 m\\nCook\\n40 m\\nReady...</td>\n",
       "      <td>[chicken wings, sprigs rosemary, head garlic, ...</td>\n",
       "      <td>20</td>\n",
       "      <td>40</td>\n",
       "      <td>40</td>\n",
       "      <td>335</td>\n",
       "      <td>212</td>\n",
       "      <td>6</td>\n",
       "      <td>23</td>\n",
       "    </tr>\n",
       "    <tr>\n",
       "      <th>3</th>\n",
       "      <td>87211</td>\n",
       "      <td>Chicken Pesto Paninis</td>\n",
       "      <td>4.625000</td>\n",
       "      <td>163</td>\n",
       "      <td>{'directions': u'Prep\\n15 m\\nCook\\n5 m\\nReady ...</td>\n",
       "      <td>[focaccia bread quartered, prepared basil pest...</td>\n",
       "      <td>15</td>\n",
       "      <td>5</td>\n",
       "      <td>5</td>\n",
       "      <td>640</td>\n",
       "      <td>264</td>\n",
       "      <td>60</td>\n",
       "      <td>32</td>\n",
       "    </tr>\n",
       "    <tr>\n",
       "      <th>4</th>\n",
       "      <td>245714</td>\n",
       "      <td>Potato Bacon Pizza</td>\n",
       "      <td>4.500000</td>\n",
       "      <td>2</td>\n",
       "      <td>{'directions': u'Prep\\n20 m\\nCook\\n45 m\\nReady...</td>\n",
       "      <td>[red potatoes, strips bacon, Sauce:, heavy whi...</td>\n",
       "      <td>20</td>\n",
       "      <td>45</td>\n",
       "      <td>45</td>\n",
       "      <td>162</td>\n",
       "      <td>68</td>\n",
       "      <td>16</td>\n",
       "      <td>7</td>\n",
       "    </tr>\n",
       "  </tbody>\n",
       "</table>\n",
       "</div>"
      ],
      "text/plain": [
       "   recipe_id                        recipe_name  aver_rate  review_nums  \\\n",
       "0     222388                     Homemade Bacon   5.000000            3   \n",
       "1     240488  Pork Loin, Apples, and Sauerkraut   4.764706           29   \n",
       "2     218939   Foolproof Rosemary Chicken Wings   4.571429           12   \n",
       "3      87211              Chicken Pesto Paninis   4.625000          163   \n",
       "4     245714                 Potato Bacon Pizza   4.500000            2   \n",
       "\n",
       "                                  cooking_directions  \\\n",
       "0  {'directions': u'Prep\\n5 m\\nCook\\n2 h 45 m\\nRe...   \n",
       "1  {'directions': u'Prep\\n15 m\\nCook\\n2 h 30 m\\nR...   \n",
       "2  {'directions': u\"Prep\\n20 m\\nCook\\n40 m\\nReady...   \n",
       "3  {'directions': u'Prep\\n15 m\\nCook\\n5 m\\nReady ...   \n",
       "4  {'directions': u'Prep\\n20 m\\nCook\\n45 m\\nReady...   \n",
       "\n",
       "                                         Ingredients  Prep  Cook  Ready  \\\n",
       "0  [pork belly, smoked paprika, kosher salt, grou...     5   165    165   \n",
       "1  [sauerkraut drained, large onion, caraway seed...    15   150    150   \n",
       "2  [chicken wings, sprigs rosemary, head garlic, ...    20    40     40   \n",
       "3  [focaccia bread quartered, prepared basil pest...    15     5      5   \n",
       "4  [red potatoes, strips bacon, Sauce:, heavy whi...    20    45     45   \n",
       "\n",
       "   Calories  Calories_Fat  Carbohydrates  Protein  \n",
       "0       308           212              1       21  \n",
       "1       371           105             32       36  \n",
       "2       335           212              6       23  \n",
       "3       640           264             60       32  \n",
       "4       162            68             16        7  "
      ]
     },
     "execution_count": 74,
     "metadata": {},
     "output_type": "execute_result"
    }
   ],
   "source": [
    "df1.head()"
   ]
  },
  {
   "cell_type": "code",
   "execution_count": 75,
   "metadata": {},
   "outputs": [],
   "source": [
    "# combine user-rating records and recipe information together\n",
    "df = pd.merge(df1, df2, how = 'right', on = 'recipe_id')"
   ]
  },
  {
   "cell_type": "code",
   "execution_count": 76,
   "metadata": {
    "scrolled": true
   },
   "outputs": [
    {
     "data": {
      "text/html": [
       "<div>\n",
       "<style scoped>\n",
       "    .dataframe tbody tr th:only-of-type {\n",
       "        vertical-align: middle;\n",
       "    }\n",
       "\n",
       "    .dataframe tbody tr th {\n",
       "        vertical-align: top;\n",
       "    }\n",
       "\n",
       "    .dataframe thead th {\n",
       "        text-align: right;\n",
       "    }\n",
       "</style>\n",
       "<table border=\"1\" class=\"dataframe\">\n",
       "  <thead>\n",
       "    <tr style=\"text-align: right;\">\n",
       "      <th></th>\n",
       "      <th>recipe_id</th>\n",
       "      <th>recipe_name</th>\n",
       "      <th>aver_rate</th>\n",
       "      <th>review_nums</th>\n",
       "      <th>cooking_directions</th>\n",
       "      <th>Ingredients</th>\n",
       "      <th>Prep</th>\n",
       "      <th>Cook</th>\n",
       "      <th>Ready</th>\n",
       "      <th>Calories</th>\n",
       "      <th>Calories_Fat</th>\n",
       "      <th>Carbohydrates</th>\n",
       "      <th>Protein</th>\n",
       "      <th>user_id</th>\n",
       "      <th>rating</th>\n",
       "    </tr>\n",
       "  </thead>\n",
       "  <tbody>\n",
       "    <tr>\n",
       "      <th>0</th>\n",
       "      <td>218939</td>\n",
       "      <td>Foolproof Rosemary Chicken Wings</td>\n",
       "      <td>4.571429</td>\n",
       "      <td>12</td>\n",
       "      <td>{'directions': u\"Prep\\n20 m\\nCook\\n40 m\\nReady...</td>\n",
       "      <td>[chicken wings, sprigs rosemary, head garlic, ...</td>\n",
       "      <td>20</td>\n",
       "      <td>40</td>\n",
       "      <td>40</td>\n",
       "      <td>335</td>\n",
       "      <td>212</td>\n",
       "      <td>6</td>\n",
       "      <td>23</td>\n",
       "      <td>2783111</td>\n",
       "      <td>5</td>\n",
       "    </tr>\n",
       "    <tr>\n",
       "      <th>1</th>\n",
       "      <td>87211</td>\n",
       "      <td>Chicken Pesto Paninis</td>\n",
       "      <td>4.625000</td>\n",
       "      <td>163</td>\n",
       "      <td>{'directions': u'Prep\\n15 m\\nCook\\n5 m\\nReady ...</td>\n",
       "      <td>[focaccia bread quartered, prepared basil pest...</td>\n",
       "      <td>15</td>\n",
       "      <td>5</td>\n",
       "      <td>5</td>\n",
       "      <td>640</td>\n",
       "      <td>264</td>\n",
       "      <td>60</td>\n",
       "      <td>32</td>\n",
       "      <td>742713</td>\n",
       "      <td>4</td>\n",
       "    </tr>\n",
       "    <tr>\n",
       "      <th>2</th>\n",
       "      <td>87211</td>\n",
       "      <td>Chicken Pesto Paninis</td>\n",
       "      <td>4.625000</td>\n",
       "      <td>163</td>\n",
       "      <td>{'directions': u'Prep\\n15 m\\nCook\\n5 m\\nReady ...</td>\n",
       "      <td>[focaccia bread quartered, prepared basil pest...</td>\n",
       "      <td>15</td>\n",
       "      <td>5</td>\n",
       "      <td>5</td>\n",
       "      <td>640</td>\n",
       "      <td>264</td>\n",
       "      <td>60</td>\n",
       "      <td>32</td>\n",
       "      <td>674114</td>\n",
       "      <td>5</td>\n",
       "    </tr>\n",
       "    <tr>\n",
       "      <th>3</th>\n",
       "      <td>87211</td>\n",
       "      <td>Chicken Pesto Paninis</td>\n",
       "      <td>4.625000</td>\n",
       "      <td>163</td>\n",
       "      <td>{'directions': u'Prep\\n15 m\\nCook\\n5 m\\nReady ...</td>\n",
       "      <td>[focaccia bread quartered, prepared basil pest...</td>\n",
       "      <td>15</td>\n",
       "      <td>5</td>\n",
       "      <td>5</td>\n",
       "      <td>640</td>\n",
       "      <td>264</td>\n",
       "      <td>60</td>\n",
       "      <td>32</td>\n",
       "      <td>191706</td>\n",
       "      <td>4</td>\n",
       "    </tr>\n",
       "    <tr>\n",
       "      <th>4</th>\n",
       "      <td>87211</td>\n",
       "      <td>Chicken Pesto Paninis</td>\n",
       "      <td>4.625000</td>\n",
       "      <td>163</td>\n",
       "      <td>{'directions': u'Prep\\n15 m\\nCook\\n5 m\\nReady ...</td>\n",
       "      <td>[focaccia bread quartered, prepared basil pest...</td>\n",
       "      <td>15</td>\n",
       "      <td>5</td>\n",
       "      <td>5</td>\n",
       "      <td>640</td>\n",
       "      <td>264</td>\n",
       "      <td>60</td>\n",
       "      <td>32</td>\n",
       "      <td>2193866</td>\n",
       "      <td>5</td>\n",
       "    </tr>\n",
       "  </tbody>\n",
       "</table>\n",
       "</div>"
      ],
      "text/plain": [
       "   recipe_id                       recipe_name  aver_rate  review_nums  \\\n",
       "0     218939  Foolproof Rosemary Chicken Wings   4.571429           12   \n",
       "1      87211             Chicken Pesto Paninis   4.625000          163   \n",
       "2      87211             Chicken Pesto Paninis   4.625000          163   \n",
       "3      87211             Chicken Pesto Paninis   4.625000          163   \n",
       "4      87211             Chicken Pesto Paninis   4.625000          163   \n",
       "\n",
       "                                  cooking_directions  \\\n",
       "0  {'directions': u\"Prep\\n20 m\\nCook\\n40 m\\nReady...   \n",
       "1  {'directions': u'Prep\\n15 m\\nCook\\n5 m\\nReady ...   \n",
       "2  {'directions': u'Prep\\n15 m\\nCook\\n5 m\\nReady ...   \n",
       "3  {'directions': u'Prep\\n15 m\\nCook\\n5 m\\nReady ...   \n",
       "4  {'directions': u'Prep\\n15 m\\nCook\\n5 m\\nReady ...   \n",
       "\n",
       "                                         Ingredients  Prep  Cook  Ready  \\\n",
       "0  [chicken wings, sprigs rosemary, head garlic, ...    20    40     40   \n",
       "1  [focaccia bread quartered, prepared basil pest...    15     5      5   \n",
       "2  [focaccia bread quartered, prepared basil pest...    15     5      5   \n",
       "3  [focaccia bread quartered, prepared basil pest...    15     5      5   \n",
       "4  [focaccia bread quartered, prepared basil pest...    15     5      5   \n",
       "\n",
       "   Calories  Calories_Fat  Carbohydrates  Protein  user_id  rating  \n",
       "0       335           212              6       23  2783111       5  \n",
       "1       640           264             60       32   742713       4  \n",
       "2       640           264             60       32   674114       5  \n",
       "3       640           264             60       32   191706       4  \n",
       "4       640           264             60       32  2193866       5  "
      ]
     },
     "execution_count": 76,
     "metadata": {},
     "output_type": "execute_result"
    }
   ],
   "source": [
    "df.head()"
   ]
  },
  {
   "cell_type": "markdown",
   "metadata": {},
   "source": [
    "## FEATURE SELECTION"
   ]
  },
  {
   "cell_type": "markdown",
   "metadata": {},
   "source": [
    "### Given a user_id: \n",
    "find all information of recipes this customer has rated, and then extract features based on these information and vectorize them"
   ]
  },
  {
   "cell_type": "code",
   "execution_count": 77,
   "metadata": {},
   "outputs": [],
   "source": [
    "from sklearn.pipeline import Pipeline\n",
    "from sklearn.pipeline import make_pipeline\n",
    "from sklearn.preprocessing import FunctionTransformer\n",
    "from sklearn.pipeline import FeatureUnion\n",
    "from sklearn.feature_extraction.text import TfidfVectorizer\n",
    "from sklearn.feature_extraction import DictVectorizer\n",
    "from sklearn.feature_extraction.text import TfidfVectorizer\n",
    "from sklearn.neighbors import KNeighborsClassifier"
   ]
  },
  {
   "cell_type": "markdown",
   "metadata": {},
   "source": [
    "#### Numerical features:\n",
    "    * Review_nums\n",
    "    * Aver_rating\n",
    "    * Time (Prep, Cook, Ready)\n",
    "    * Nutritions (Calories, Calories_fat, Carbohydrates, Protein)\n",
    "\n",
    "#### Text features: \n",
    "    * Recipe_name\n",
    "    * Ingredients\n",
    "    * Cooking_directions\n"
   ]
  },
  {
   "cell_type": "code",
   "execution_count": 78,
   "metadata": {},
   "outputs": [],
   "source": [
    "# time-related features\n",
    "time_features = lambda x: x[['Prep', 'Cook', 'Ready']].apply(lambda x: dict(x), axis=1)\n",
    "\n",
    "# nutrition features\n",
    "nutrition_features = lambda x: x[['Prep', 'Cook', 'Ready']].apply(lambda x: dict(x), axis=1)\n",
    "\n",
    "# average rating and review number features\n",
    "rating_features = lambda x: x[['aver_rate', 'review_nums']].apply(lambda x: dict(x), axis=1)\n",
    "\n",
    "# ingredient features\n",
    "ingredient_features = lambda x: x['Ingredients']\n",
    "\n",
    "# recipe name feature\n",
    "name_features = lambda x: x['recipe_name']\n",
    "\n",
    "# cooking direction feature\n",
    "directions_features = lambda x: x['cooking_directions']"
   ]
  },
  {
   "cell_type": "code",
   "execution_count": 79,
   "metadata": {},
   "outputs": [],
   "source": [
    "# vectorize all features\n",
    "time = make_pipeline(FunctionTransformer(time_features,validate=False),DictVectorizer())\n",
    "nutrition = make_pipeline(FunctionTransformer(nutrition_features,validate=False),DictVectorizer())\n",
    "avg_rating = make_pipeline(FunctionTransformer(rating_features,validate=False),DictVectorizer())\n",
    "ingredient = make_pipeline(FunctionTransformer(ingredient_features,validate=False),TfidfVectorizer(analyzer='word',\n",
    "                                                                                                   tokenizer=lambda x: x,\n",
    "                                                                                                   preprocessor=lambda x: x,\n",
    "                                                                                                   token_pattern=None))\n",
    "name = make_pipeline(FunctionTransformer(name_features,validate=False),TfidfVectorizer(analyzer='word',\n",
    "                                                                                       tokenizer=lambda x: x,\n",
    "                                                                                       preprocessor=lambda x: x,\n",
    "                                                                                       token_pattern=None))\n",
    "direction = make_pipeline(FunctionTransformer(directions_features,validate=False),TfidfVectorizer(analyzer='word',\n",
    "                                                                                                  tokenizer=lambda x: x,\n",
    "                                                                                                  preprocessor=lambda x: x,\n",
    "                                                                                                  token_pattern=None))\n",
    "\n",
    "# combine all features\n",
    "features = FeatureUnion([(\"time\", time),\n",
    "                         (\"nutri\",nutrition),\n",
    "                         (\"rating\",avg_rating),\n",
    "                         (\"ingre\",ingredient),\n",
    "                         (\"name\", name),\n",
    "                         (\"dire\",direction)])"
   ]
  },
  {
   "cell_type": "markdown",
   "metadata": {},
   "source": [
    "## BUILD MODELS FOR EACH USER\n",
    "After vectorizing recipe information of each user, we use KNN to build a model for each user. We also use GridSearch to test different parameters and get the optimal combination for our model with the highest prediction accuracy."
   ]
  },
  {
   "cell_type": "code",
   "execution_count": 192,
   "metadata": {},
   "outputs": [],
   "source": [
    "# i = user_id, j = recipe_id. This function is used to: \n",
    "# a. Given a user_id, find all information of recipes that the user has rated in the dataset\n",
    "# b. Use \"features\"(the function created) to vectorize the information\n",
    "# c. Try different parameters of KNN to find the best combination of parameters and get the optimized model\n",
    "# d. Use the model to predict rating of the given recipe\n",
    "\n",
    "def geprediction(i,j):\n",
    "    user_df = df.loc[df['user_id'] == i, ['recipe_name', 'aver_rate', 'review_nums', 'rating', 'Ingredients', 'Prep', 'Cook', 'Ready',\n",
    "                                          'Calories', 'Calories_Fat', 'Carbohydrates', 'Protein', 'cooking_directions']]\n",
    "    y = user_df['rating']\n",
    "    vecs = features.fit_transform(user_df)\n",
    "    try:\n",
    "        grid_param = {'n_neighbors': [20, 10, 5],      # when the user has rated more than 20 recipes\n",
    "              'weights': ['distance', 'uniform'],\n",
    "              'algorithm': ['brute', 'auto', 'ball_tree'],\n",
    "              'leaf_size':[10, 30, 50]}\n",
    "        gd_sr = GridSearchCV(estimator = KNeighborsClassifier(), param_grid = grid_param, scoring = 'accuracy', cv = 5, n_jobs = -1)\n",
    "        user_model = gd_sr.fit(vecs, y)\n",
    "    except ValueError:\n",
    "        grid_param = {'n_neighbors': [10, 5],          # when the user has rated more than 10 recipes\n",
    "                      'weights': [ 'distance', 'uniform'],\n",
    "                      'algorithm': ['brute', 'auto', 'ball_tree'],\n",
    "                      'leaf_size':[10, 30, 50]}\n",
    "        try:\n",
    "            gd_sr = GridSearchCV(estimator = KNeighborsClassifier(), param_grid = grid_param, scoring = 'accuracy', cv = 5, n_jobs = -1)\n",
    "            user_model = gd_sr.fit(vecs, y)\n",
    "        except ValueError:\n",
    "            grid_param = {'n_neighbors': [5, 1],       # when the user has rated more than 5 recipes \n",
    "                          'weights': [ 'distance', 'uniform'],\n",
    "                          'algorithm': ['brute', 'auto', 'ball_tree'],\n",
    "                          'leaf_size':[10, 30, 50]}\n",
    "            try:\n",
    "                gd_sr = GridSearchCV(estimator = KNeighborsClassifier(), param_grid = grid_param, scoring = 'accuracy', cv = 5, n_jobs = -1)\n",
    "                user_model = gd_sr.fit(vecs, y)\n",
    "            except ValueError:\n",
    "                user_prediction = sum(y)/len(y)        # when the user has rated less than 5 recipes, use average rating as the prediction\n",
    "                return user_prediction\n",
    "    recipe_df = df1.loc[df1['recipe_id'] == j, ['recipe_name', 'aver_rate', 'review_nums', 'Ingredients', 'Prep', 'Cook', 'Ready',\n",
    "                                                'Calories', 'Calories_Fat', 'Carbohydrates', 'Protein', 'cooking_directions']]\n",
    "    recipe_vecs = features.transform(recipe_df)\n",
    "    user_prediction = float(user_model.predict(recipe_vecs))\n",
    "    return user_prediction"
   ]
  },
  {
   "cell_type": "markdown",
   "metadata": {},
   "source": [
    "## GET PREDICTIONS"
   ]
  },
  {
   "cell_type": "code",
   "execution_count": 187,
   "metadata": {},
   "outputs": [],
   "source": [
    "test = pd.read_csv('test_10k_1.csv')"
   ]
  },
  {
   "cell_type": "code",
   "execution_count": 188,
   "metadata": {},
   "outputs": [
    {
     "data": {
      "text/html": [
       "<div>\n",
       "<style scoped>\n",
       "    .dataframe tbody tr th:only-of-type {\n",
       "        vertical-align: middle;\n",
       "    }\n",
       "\n",
       "    .dataframe tbody tr th {\n",
       "        vertical-align: top;\n",
       "    }\n",
       "\n",
       "    .dataframe thead th {\n",
       "        text-align: right;\n",
       "    }\n",
       "</style>\n",
       "<table border=\"1\" class=\"dataframe\">\n",
       "  <thead>\n",
       "    <tr style=\"text-align: right;\">\n",
       "      <th></th>\n",
       "      <th>user_id</th>\n",
       "      <th>recipe_id</th>\n",
       "    </tr>\n",
       "  </thead>\n",
       "  <tbody>\n",
       "    <tr>\n",
       "      <th>0</th>\n",
       "      <td>5568</td>\n",
       "      <td>21412</td>\n",
       "    </tr>\n",
       "    <tr>\n",
       "      <th>1</th>\n",
       "      <td>3964202</td>\n",
       "      <td>75639</td>\n",
       "    </tr>\n",
       "    <tr>\n",
       "      <th>2</th>\n",
       "      <td>2621648</td>\n",
       "      <td>18015</td>\n",
       "    </tr>\n",
       "    <tr>\n",
       "      <th>3</th>\n",
       "      <td>3984678</td>\n",
       "      <td>12405</td>\n",
       "    </tr>\n",
       "    <tr>\n",
       "      <th>4</th>\n",
       "      <td>1055463</td>\n",
       "      <td>12051</td>\n",
       "    </tr>\n",
       "  </tbody>\n",
       "</table>\n",
       "</div>"
      ],
      "text/plain": [
       "   user_id  recipe_id\n",
       "0     5568      21412\n",
       "1  3964202      75639\n",
       "2  2621648      18015\n",
       "3  3984678      12405\n",
       "4  1055463      12051"
      ]
     },
     "execution_count": 188,
     "metadata": {},
     "output_type": "execute_result"
    }
   ],
   "source": [
    "test.head()"
   ]
  },
  {
   "cell_type": "code",
   "execution_count": 189,
   "metadata": {},
   "outputs": [],
   "source": [
    "lis_user = list(test['user_id'])\n",
    "lis_recipe = list(test['recipe_id'])"
   ]
  },
  {
   "cell_type": "code",
   "execution_count": 195,
   "metadata": {},
   "outputs": [],
   "source": [
    "import warnings\n",
    "warnings.filterwarnings(\"ignore\")   # remove warning messages "
   ]
  },
  {
   "cell_type": "markdown",
   "metadata": {},
   "source": [
    "##### We ran the following code in a different computer as it took too much time runing here "
   ]
  },
  {
   "cell_type": "code",
   "execution_count": null,
   "metadata": {},
   "outputs": [],
   "source": [
    "lis_prediction = [] \n",
    "for i,j in zip(lis_user, lis_recipe):\n",
    "    lis_prediction.append(geprediction(i,j))"
   ]
  },
  {
   "cell_type": "code",
   "execution_count": null,
   "metadata": {},
   "outputs": [],
   "source": [
    "test['rating'] = lis_prediction "
   ]
  },
  {
   "cell_type": "code",
   "execution_count": 205,
   "metadata": {},
   "outputs": [],
   "source": [
    "test['user_id'] = [str(i) for i in test.user_id]\n",
    "test['recipe_id'] = [str(i) for i in test.recipe_id]\n",
    "test['user_rep_id'] = test['user_id'] + test['recipe_id']"
   ]
  },
  {
   "cell_type": "code",
   "execution_count": 208,
   "metadata": {},
   "outputs": [],
   "source": [
    "test[['user_rep_id', 'rating']].to_csv('result.csv', index = False, header = True)"
   ]
  },
  {
   "cell_type": "markdown",
   "metadata": {},
   "source": [
    "### Thanks for reading!!!\n",
    "Presented by Yiting Fu, Siying Liu & Liyuan Li"
   ]
  }
 ],
 "metadata": {
  "kernelspec": {
   "display_name": "Python 3",
   "language": "python",
   "name": "python3"
  },
  "language_info": {
   "codemirror_mode": {
    "name": "ipython",
    "version": 3
   },
   "file_extension": ".py",
   "mimetype": "text/x-python",
   "name": "python",
   "nbconvert_exporter": "python",
   "pygments_lexer": "ipython3",
   "version": "3.7.3"
  }
 },
 "nbformat": 4,
 "nbformat_minor": 2
}
